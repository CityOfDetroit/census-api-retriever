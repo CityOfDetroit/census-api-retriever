{
 "cells": [
  {
   "cell_type": "code",
   "execution_count": 1,
   "id": "f6de84ef",
   "metadata": {},
   "outputs": [],
   "source": [
    "from census_api_retriever.retriever import CensusAPIRetriever"
   ]
  },
  {
   "cell_type": "code",
   "execution_count": 2,
   "id": "6175b0f2",
   "metadata": {},
   "outputs": [],
   "source": [
    "REQUEST_CONFIG = 'configs/requests/sample.json'\n",
    "cdg = CensusAPIRetriever(REQUEST_CONFIG, field_output_types='ME', calc_columns_only=True)\n",
    "cdg.process()"
   ]
  },
  {
   "cell_type": "code",
   "execution_count": null,
   "id": "32d09630",
   "metadata": {},
   "outputs": [],
   "source": []
  }
 ],
 "metadata": {
  "kernelspec": {
   "display_name": "3.10.13",
   "language": "python",
   "name": "python3"
  },
  "language_info": {
   "codemirror_mode": {
    "name": "ipython",
    "version": 3
   },
   "file_extension": ".py",
   "mimetype": "text/x-python",
   "name": "python",
   "nbconvert_exporter": "python",
   "pygments_lexer": "ipython3",
   "version": "3.10.13"
  }
 },
 "nbformat": 4,
 "nbformat_minor": 5
}
